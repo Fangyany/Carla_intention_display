{
 "cells": [
  {
   "cell_type": "code",
   "execution_count": 20,
   "metadata": {},
   "outputs": [],
   "source": [
    "import carla\n",
    "import pickle\n",
    "import numpy as np\n",
    "import os\n",
    "\n",
    "\n",
    "# 连接到CARLA服务器\n",
    "client = carla.Client('localhost', 2000)\n",
    "client.set_timeout(10.0)\n",
    "map_name = 'Town05'\n",
    "world = client.load_world(map_name)\n",
    "world_map = world.get_map()\n",
    "waypoints = world_map.generate_waypoints(2.0)\n",
    "\n",
    "traffic_lights = world.get_actors().filter('traffic.traffic_light')\n",
    "\n",
    "import pandas as pd\n",
    "data_list = []\n",
    "\n",
    "for waypoint in world_map.generate_waypoints(1.0):\n",
    "    x = waypoint.transform.location.x\n",
    "    y = waypoint.transform.location.y\n",
    "    road_id = waypoint.road_id\n",
    "    lane_id = waypoint.lane_id\n",
    "    s = waypoint.s\n",
    "    data_list.append([x, y, road_id, lane_id, s])\n",
    "\n",
    "map_df = pd.DataFrame(data_list, columns=['x', 'y', 'road_id', 'lane_id', 's'])\n",
    "\n",
    "\n",
    "# 获取十字路口\n",
    "junctions = [waypoint for waypoint in waypoints if waypoint.is_junction]\n",
    "\n",
    "# 分组每个路口的路点\n",
    "junctions_and_waypoints = {}\n",
    "for waypoint in waypoints:\n",
    "    for junction in junctions:\n",
    "        if waypoint.is_junction and waypoint.junction_id == junction.junction_id:\n",
    "            if junction not in junctions_and_waypoints:\n",
    "                junctions_and_waypoints[junction] = []\n",
    "            junctions_and_waypoints[junction].append(waypoint)\n",
    "\n",
    "for junction, waypoints in junctions_and_waypoints.items():\n",
    "    # 绘制十字路口前50米的路点\n",
    "    previous_waypoint = junction.previous(50)[0]\n",
    "\n",
    "    # 获取车道\n",
    "    lane_id, road_id = previous_waypoint.lane_id, previous_waypoint.road_id\n",
    "    road_data = map_df[(map_df['lane_id'] == lane_id) & (map_df['road_id'] == road_id)]\n",
    "    first_row = road_data.iloc[0]\n",
    "    world.debug.draw_point(carla.Location(x=first_row['x'], y=first_row['y']), size=0.1, color=carla.Color(255, 0, 0), life_time=100)\n",
    "    stop_line_y = first_row['y'] \n",
    "\n",
    "    lane_width = previous_waypoint.lane_width\n",
    "    left = carla.Location(x=first_row['x'] + lane_width * 1.5, y=stop_line_y)\n",
    "    right = carla.Location(x=first_row['x'] - lane_width * 0.5, y=stop_line_y)\n",
    "\n",
    "    world.debug.draw_string(left, 'Left', draw_shadow=False,\n",
    "                            color=carla.Color(r=255, g=0, b=0), life_time=100)\n",
    "    world.debug.draw_string(right, 'Right', draw_shadow=False,\n",
    "                            color=carla.Color(r=255, g=0, b=0), life_time=100)\n",
    "    break"
   ]
  },
  {
   "cell_type": "code",
   "execution_count": 37,
   "metadata": {},
   "outputs": [
    {
     "name": "stdout",
     "output_type": "stream",
     "text": [
      "32\n"
     ]
    },
    {
     "data": {
      "text/plain": [
       "(-2.135422515869141, 44.84387283325195, -5.063722610473633, 106.33817481994629)"
      ]
     },
     "execution_count": 37,
     "metadata": {},
     "output_type": "execute_result"
    },
    {
     "data": {
      "image/png": "[encoded data removed]",
      "text/plain": [
       "<Figure size 640x480 with 1 Axes>"
      ]
     },
     "metadata": {},
     "output_type": "display_data"
    },
    {
     "ename": "",
     "evalue": "",
     "output_type": "error",
     "traceback": [
      "\u001b[1;31mThe Kernel crashed while executing code in the the current cell or a previous cell. Please review the code in the cell(s) to identify a possible cause of the failure. Click <a href='https://aka.ms/vscodeJupyterKernelCrash'>here</a> for more info. View Jupyter <a href='command:jupyter.viewOutput'>log</a> for further details."
     ]
    }
   ],
   "source": [
    "import pickle\n",
    "import numpy as np\n",
    "import matplotlib.pyplot as plt\n",
    "\n",
    "trajectory_data = pickle.load(open('traj/vehicle_trajectory_20240108125034.pkl', \"rb\"))\n",
    "print(len(trajectory_data))\n",
    "\n",
    "a, b, c = 0, 0, 0\n",
    "for i in range(len(trajectory_data)):\n",
    "    traj = np.array(trajectory_data[i])\n",
    "    \n",
    "    if traj[-1][1] < stop_line_y + 1:\n",
    "        continue\n",
    "    data = []\n",
    "    plt.scatter(traj[-1][0], traj[-1][1], c='g', s=100, marker='*')\n",
    "\n",
    "    if traj[-1][0] < right.x:\n",
    "        label = 0 # 左转\n",
    "        plt.scatter(traj[:, 0], traj[:, 1], c='r')\n",
    "        a += 1\n",
    "    elif traj[-1][0] > left.x:\n",
    "        label = 2 # 右转\n",
    "        plt.scatter(traj[:, 0], traj[:, 1], c='b')\n",
    "        b += 1\n",
    "    else:\n",
    "        label = 1 # 直行\n",
    "        plt.scatter(traj[:, 0], traj[:, 1], c='k')\n",
    "        c += 1\n",
    "\n",
    "# plt.scatter(first_row['x'], first_row['y'], c='g', s=100, marker='*')\n",
    "plt.scatter(left.x, left.y, c='b', s=100, marker='*')\n",
    "plt.scatter(right.x, right.y, c='r', s=100, marker='*')\n",
    "\n",
    "\n",
    "plt.axis('equal')"
   ]
  },
  {
   "cell_type": "code",
   "execution_count": 35,
   "metadata": {},
   "outputs": [
    {
     "name": "stdout",
     "output_type": "stream",
     "text": [
      "12 4 11\n"
     ]
    }
   ],
   "source": [
    "print(a, b, c)"
   ]
  }
 ],
 "metadata": {
  "kernelspec": {
   "display_name": "carla",
   "language": "python",
   "name": "python3"
  },
  "language_info": {
   "codemirror_mode": {
    "name": "ipython",
    "version": 3
   },
   "file_extension": ".py",
   "mimetype": "text/x-python",
   "name": "python",
   "nbconvert_exporter": "python",
   "pygments_lexer": "ipython3",
   "version": "3.7.1"
  }
 },
 "nbformat": 4,
 "nbformat_minor": 2
}
