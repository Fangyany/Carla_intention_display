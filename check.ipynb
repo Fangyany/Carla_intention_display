{
 "cells": [
  {
   "cell_type": "code",
   "execution_count": 8,
   "metadata": {},
   "outputs": [],
   "source": [
    "import os\n",
    "import pickle\n",
    "\n",
    "# 指定包含 .pkl 文件的文件夹路径\n",
    "folder_path = 'traj_town05'\n",
    "\n",
    "data_and_label = []\n",
    "# 循环遍历文件夹中的每个文件\n",
    "for filename in os.listdir(folder_path):\n",
    "    file_path = os.path.join(folder_path, filename)\n",
    "\n",
    "    with open(file_path, 'rb') as file:\n",
    "        data = pickle.load(file)\n",
    "        for i in range(len(data)):\n",
    "            data_and_label.append(data[i])\n",
    "\n",
    "\n",
    "pickle_filename = \"data_and_label.pkl\"\n",
    "with open(pickle_filename, 'wb') as pickle_file:\n",
    "    pickle.dump(data_and_label, pickle_file)"
   ]
  }
 ],
 "metadata": {
  "kernelspec": {
   "display_name": "carla",
   "language": "python",
   "name": "python3"
  },
  "language_info": {
   "codemirror_mode": {
    "name": "ipython",
    "version": 3
   },
   "file_extension": ".py",
   "mimetype": "text/x-python",
   "name": "python",
   "nbconvert_exporter": "python",
   "pygments_lexer": "ipython3",
   "version": "3.7.1"
  }
 },
 "nbformat": 4,
 "nbformat_minor": 2
}
