{
 "cells": [
  {
   "cell_type": "code",
   "execution_count": 1,
   "metadata": {},
   "outputs": [],
   "source": [
    "import carla\n",
    "import random\n",
    "import time\n",
    "\n",
    "# 连接到CARLA服务器\n",
    "client = carla.Client('localhost', 2000)\n",
    "client.set_timeout(10.0)\n",
    "map_name = 'Town05'\n",
    "world = client.load_world(map_name)\n",
    "world_map = world.get_map()\n",
    "waypoints = world_map.generate_waypoints(2.0)\n",
    "\n",
    "traffic_lights = world.get_actors().filter('traffic.traffic_light')\n"
   ]
  },
  {
   "cell_type": "code",
   "execution_count": 2,
   "metadata": {},
   "outputs": [],
   "source": [
    "import pandas as pd\n",
    "data_list = []\n",
    "\n",
    "for waypoint in world_map.generate_waypoints(1.0):\n",
    "    x = waypoint.transform.location.x\n",
    "    y = waypoint.transform.location.y\n",
    "    road_id = waypoint.road_id\n",
    "    lane_id = waypoint.lane_id\n",
    "    s = waypoint.s\n",
    "    data_list.append([x, y, road_id, lane_id, s])\n",
    "\n",
    "map_df = pd.DataFrame(data_list, columns=['x', 'y', 'road_id', 'lane_id', 's'])"
   ]
  },
  {
   "cell_type": "code",
   "execution_count": 4,
   "metadata": {},
   "outputs": [
    {
     "name": "stdout",
     "output_type": "stream",
     "text": [
      "Created vehicle.diamondback.century\n",
      "Created vehicle.kawasaki.ninja\n"
     ]
    },
    {
     "ename": "KeyboardInterrupt",
     "evalue": "",
     "output_type": "error",
     "traceback": [
      "\u001b[1;31m---------------------------------------------------------------------------\u001b[0m",
      "\u001b[1;31mKeyboardInterrupt\u001b[0m                         Traceback (most recent call last)",
      "\u001b[1;32m~\\AppData\\Local\\Temp\\ipykernel_29144\\4214905011.py\u001b[0m in \u001b[0;36m<module>\u001b[1;34m\u001b[0m\n\u001b[0;32m    106\u001b[0m                 \u001b[0mtrajectory\u001b[0m\u001b[1;33m.\u001b[0m\u001b[0mappend\u001b[0m\u001b[1;33m(\u001b[0m\u001b[1;33m[\u001b[0m\u001b[0mvehicle_location\u001b[0m\u001b[1;33m.\u001b[0m\u001b[0mx\u001b[0m\u001b[1;33m,\u001b[0m \u001b[0mvehicle_location\u001b[0m\u001b[1;33m.\u001b[0m\u001b[0my\u001b[0m\u001b[1;33m,\u001b[0m \u001b[0mvehicle_rotation\u001b[0m\u001b[1;33m.\u001b[0m\u001b[0myaw\u001b[0m\u001b[1;33m]\u001b[0m\u001b[1;33m)\u001b[0m\u001b[1;33m\u001b[0m\u001b[1;33m\u001b[0m\u001b[0m\n\u001b[0;32m    107\u001b[0m                 \u001b[1;31m# world.debug.draw_point(vehicle_location, size=0.1, color=carla.Color(0, 255, 0), life_time=1000)\u001b[0m\u001b[1;33m\u001b[0m\u001b[1;33m\u001b[0m\u001b[1;33m\u001b[0m\u001b[0m\n\u001b[1;32m--> 108\u001b[1;33m                 \u001b[0mtime\u001b[0m\u001b[1;33m.\u001b[0m\u001b[0msleep\u001b[0m\u001b[1;33m(\u001b[0m\u001b[1;36m0.1\u001b[0m\u001b[1;33m)\u001b[0m\u001b[1;33m\u001b[0m\u001b[1;33m\u001b[0m\u001b[0m\n\u001b[0m\u001b[0;32m    109\u001b[0m \u001b[1;33m\u001b[0m\u001b[0m\n\u001b[0;32m    110\u001b[0m             \u001b[0mtrajectory_data\u001b[0m\u001b[1;33m.\u001b[0m\u001b[0mappend\u001b[0m\u001b[1;33m(\u001b[0m\u001b[0mtrajectory\u001b[0m\u001b[1;33m[\u001b[0m\u001b[1;33m:\u001b[0m\u001b[1;33m]\u001b[0m\u001b[1;33m)\u001b[0m\u001b[1;33m\u001b[0m\u001b[1;33m\u001b[0m\u001b[0m\n",
      "\u001b[1;31mKeyboardInterrupt\u001b[0m: "
     ]
    }
   ],
   "source": [
    "import math\n",
    "import pickle\n",
    "from datetime import datetime\n",
    "\n",
    "# 获取十字路口\n",
    "junctions = [waypoint for waypoint in waypoints if waypoint.is_junction]\n",
    "\n",
    "# 分组每个路口的路点\n",
    "junctions_and_waypoints = {}\n",
    "for waypoint in waypoints:\n",
    "    for junction in junctions:\n",
    "        if waypoint.is_junction and waypoint.junction_id == junction.junction_id:\n",
    "            if junction not in junctions_and_waypoints:\n",
    "                junctions_and_waypoints[junction] = []\n",
    "            junctions_and_waypoints[junction].append(waypoint)\n",
    "\n",
    "for junction, waypoints in junctions_and_waypoints.items():\n",
    "    # 绘制十字路口前50米的路点\n",
    "    previous_waypoint = junction.previous(50)[0]\n",
    "    world.debug.draw_string(previous_waypoint.transform.location, 'Pre', draw_shadow=False,\n",
    "                                color=carla.Color(r=255, g=0, b=0), life_time=100)\n",
    "    \n",
    "\n",
    "    # 获取十字路口的边界框\n",
    "    junction_bounding_box = junction.get_junction().bounding_box\n",
    "\n",
    "    # world.debug.draw_point(junction_bounding_box.location, size=0.1, color=carla.Color(255, 0, 0), life_time=100)\n",
    "    # lane_width = previous_waypoint.lane_width * 4\n",
    "\n",
    "    # world.debug.draw_point(junction_bounding_box.location + carla.Location(x=lane_width, y=0), size=0.1, color=carla.Color(255, 0, 0), life_time=100)\n",
    "    # world.debug.draw_point(junction_bounding_box.location + carla.Location(x=0, y=lane_width), size=0.1, color=carla.Color(255, 0, 0), life_time=100)\n",
    "    # world.debug.draw_point(junction_bounding_box.location + carla.Location(x=-lane_width, y=0), size=0.1, color=carla.Color(255, 0, 0), life_time=100)\n",
    "    # world.debug.draw_point(junction_bounding_box.location + carla.Location(x=0, y=-lane_width), size=0.1, color=carla.Color(255, 0, 0), life_time=100)\n",
    "\n",
    "    # 获取车道\n",
    "    lane_id, road_id = previous_waypoint.lane_id, previous_waypoint.road_id\n",
    "    road_data = map_df[(map_df['lane_id'] == lane_id) & (map_df['road_id'] == road_id)]\n",
    "    first_row = road_data.iloc[0]\n",
    "    # world.debug.draw_point(carla.Location(x=first_row['x'], y=first_row['y']), size=0.1, color=carla.Color(255, 0, 0), life_time=100)\n",
    "    stop_line_y = first_row['y']\n",
    "\n",
    "    lane_width = previous_waypoint.lane_width\n",
    "    left = carla.Location(x=first_row['x'] + lane_width * 1.5, y=stop_line_y)\n",
    "    right = carla.Location(x=first_row['x'] - lane_width * 0.5, y=stop_line_y)\n",
    "    world.debug.draw_string(left, 'Left', draw_shadow=False,\n",
    "                                color=carla.Color(r=255, g=0, b=0), life_time=100)\n",
    "    world.debug.draw_string(right, 'Right', draw_shadow=False,\n",
    "                                color=carla.Color(r=255, g=0, b=0), life_time=100)\n",
    "    \n",
    "\n",
    "    # 输出边界框的坐标\n",
    "    # print(f\"Junction ID: {junction.junction_id}\")\n",
    "    # print(f\"Bounding Box Min: {junction_bounding_box.location}\")\n",
    "    # print(f\"Bounding Box Max: {junction_bounding_box.location + junction_bounding_box.extent * 2.0}\")\n",
    "\n",
    "    # world.debug.draw_box(junction_bounding_box, junction_bounding_box.rotation, thickness=0.1, color=carla.Color(255, 0, 0), life_time=1000)\n",
    "\n",
    "    # 提取边界框的位置和扩展\n",
    "    # x, y = junction_bounding_box.location.x, junction_bounding_box.location.y\n",
    "    # extent_x = junction_bounding_box.extent.x\n",
    "    # extent_y = junction_bounding_box.extent.y\n",
    "    # top_left = carla.Location(x - extent_x, y - extent_y, junction_bounding_box.location.z)\n",
    "    # top_right = carla.Location(x + extent_x, y - extent_y, junction_bounding_box.location.z)\n",
    "    # bottom_left = carla.Location(x - extent_x, y + extent_y, junction_bounding_box.location.z)\n",
    "    # bottom_right = carla.Location(x + extent_x, y + extent_y, junction_bounding_box.location.z)\n",
    "    # world.debug.draw_point(top_left, size=0.2, color=carla.Color(r=255, g=0, b=0), life_time=1000)\n",
    "    # world.debug.draw_point(top_right, size=0.2, color=carla.Color(r=255, g=0, b=0), life_time=1000)\n",
    "    # world.debug.draw_point(bottom_left, size=0.2, color=carla.Color(r=255, g=0, b=0), life_time=1000)\n",
    "    # world.debug.draw_point(bottom_right, size=0.2, color=carla.Color(r=255, g=0, b=0), life_time=1000)\n",
    "\n",
    "\n",
    "\n",
    "    # break\n",
    "    trajectory_data = []\n",
    "    num = 0\n",
    "    while True:\n",
    "        # 设置目标路口的红绿灯为绿色\n",
    "        for traffic_light in traffic_lights:\n",
    "            traffic_light.set_state(carla.TrafficLightState.Green)\n",
    "\n",
    "        vehicle_bp = random.choice(world.get_blueprint_library().filter('vehicle.*'))\n",
    "        vehicle = world.try_spawn_actor(vehicle_bp, previous_waypoint.transform)\n",
    "        \n",
    "        if vehicle is not None:\n",
    "            print(f'Created {vehicle_bp.id}')\n",
    "            num += 1\n",
    "            # 启用车辆自动驾驶\n",
    "            vehicle.set_autopilot(True)\n",
    "            \n",
    "            # 设置车头方向\n",
    "            direction_vector = previous_waypoint.next(2.0)[0].transform.location - previous_waypoint.transform.location\n",
    "            direction_vector = direction_vector / direction_vector.length()\n",
    "            yaw = math.atan2(direction_vector.y, direction_vector.x) * (180.0 / math.pi)\n",
    "            new_transform = carla.Transform(location=vehicle.get_location(), rotation=carla.Rotation(yaw=yaw))\n",
    "            vehicle.set_transform(new_transform)\n",
    "\n",
    "            start_time = time.time()\n",
    "            trajectory = []\n",
    "\n",
    "            # 记录车辆轨迹，持续10秒\n",
    "            while time.time() - start_time <= 10:\n",
    "                # 获取车辆的位置和朝向\n",
    "                vehicle_location = vehicle.get_location()\n",
    "                vehicle_rotation = vehicle.get_transform().rotation\n",
    "\n",
    "                trajectory.append([vehicle_location.x, vehicle_location.y, vehicle_rotation.yaw])\n",
    "                # world.debug.draw_point(vehicle_location, size=0.1, color=carla.Color(0, 255, 0), life_time=1000)\n",
    "                time.sleep(0.1)\n",
    "\n",
    "            trajectory_data.append(trajectory[:])\n",
    "\n",
    "        if num >= 50:\n",
    "            current_time = datetime.now().strftime(\"%Y%m%d%H%M%S\")\n",
    "            pickle_filename = f\"./traj/vehicle_trajectory_{current_time}.pkl\"\n",
    "            with open(pickle_filename, 'wb') as pickle_file:\n",
    "                pickle.dump(trajectory_data, pickle_file)\n",
    "            break\n",
    "    break\n"
   ]
  },
  {
   "cell_type": "code",
   "execution_count": null,
   "metadata": {},
   "outputs": [
    {
     "data": {
      "image/png": "[encoded data removed]",
      "text/plain": [
       "<Figure size 640x480 with 1 Axes>"
      ]
     },
     "metadata": {},
     "output_type": "display_data"
    }
   ],
   "source": [
    "import numpy as np\n",
    "import matplotlib.pyplot as plt\n",
    "import pickle\n",
    "\n",
    "# 读取轨迹数据\n",
    "with open(\"vehicle_trajectory.pkl\", 'rb') as pickle_file:\n",
    "    trajectory_data = pickle.load(pickle_file)\n",
    "\n",
    "# 创建一个图形\n",
    "plt.figure()\n",
    "\n",
    "# 绘制轨迹\n",
    "for i in range(len(trajectory_data)):\n",
    "    traj = np.array(trajectory_data[i])\n",
    "    if traj[0][0] < 20:\n",
    "        continue\n",
    "    plt.scatter(-traj[:, 0], traj[:, 1], marker='.', linewidth=0.5, alpha=0.5)\n",
    "\n",
    "# 获取 junction 边界框信息\n",
    "x, y = -junction_bounding_box.location.x, junction_bounding_box.location.y\n",
    "extent_x, extent_y = junction_bounding_box.extent.x, junction_bounding_box.extent.y\n",
    "\n",
    "# 绘制 junction 点和边界框\n",
    "plt.scatter(x, y, color='green', label='Junction Center')\n",
    "plt.scatter(x - extent_x, y - extent_y, color='red', label='Bounding Box Vertex', marker='s')\n",
    "plt.scatter(x + extent_x, y - extent_y, color='red', marker='s')\n",
    "plt.scatter(x - extent_x, y + extent_y, color='red', marker='s')\n",
    "plt.scatter(x + extent_x, y + extent_y, color='red', marker='s')\n",
    "\n",
    "# 连接四个点\n",
    "plt.plot([x - extent_x, x + extent_x, x + extent_x, x - extent_x, x - extent_x],\n",
    "         [y - extent_y, y - extent_y, y + extent_y, y + extent_y, y - extent_y], color='black')\n",
    "\n",
    "# 绘制左右边界\n",
    "plt.scatter(-left.x, left.y, color='blue', label='Left Boundary')\n",
    "plt.scatter(-right.x, right.y, color='blue', label='Right Boundary')\n",
    "\n",
    "# 设置图形的纵横比\n",
    "plt.axis('equal')\n",
    "\n",
    "# 显示图例\n",
    "plt.legend()\n",
    "\n",
    "# 显示图形\n",
    "# plt.savefig('trajectory_and_junction.png', dpi=300, bbox_inches='tight')\n"
   ]
  },
  {
   "cell_type": "code",
   "execution_count": null,
   "metadata": {},
   "outputs": [
    {
     "data": {
      "text/plain": [
       "(-47.17263908386231, -15.88750343322754, 38.39083881378174, 105.86864070892334)"
      ]
     },
     "execution_count": 35,
     "metadata": {},
     "output_type": "execute_result"
    },
    {
     "data": {
      "image/png": "[encoded data removed]",
      "text/plain": [
       "<Figure size 640x480 with 1 Axes>"
      ]
     },
     "metadata": {},
     "output_type": "display_data"
    }
   ],
   "source": [
    "# 处理数据\n",
    "data_and_label = []\n",
    "for i in range(len(trajectory_data)):\n",
    "    traj = np.array(trajectory_data[i])\n",
    "    if traj[0][0] < 20:\n",
    "        continue\n",
    "    data = []\n",
    "    for j in range(len(traj)):\n",
    "        if traj[j][1] < stop_line_y:\n",
    "            data.append(traj[j])\n",
    "            plt.scatter(-traj[j][0], traj[j][1], marker='.', color='r', linewidth=0.5, alpha=0.5)\n",
    "    if traj[-1][0] < left.x:\n",
    "        label = 0 # 左转\n",
    "    elif traj[-1][0] > right.x:\n",
    "        label = 2 # 右转\n",
    "    else:\n",
    "        label = 1 # 直行\n",
    "    data_and_label.append([data[-20:], label])\n",
    "\n",
    "# 绘制 junction 点和边界框\n",
    "plt.scatter(x, y, color='green', label='Junction Center')\n",
    "plt.scatter(x - extent_x, y - extent_y, color='red', label='Bounding Box Vertex', marker='s')\n",
    "plt.scatter(x + extent_x, y - extent_y, color='red', marker='s')\n",
    "plt.scatter(x - extent_x, y + extent_y, color='red', marker='s')\n",
    "plt.scatter(x + extent_x, y + extent_y, color='red', marker='s')\n",
    "# 连接四个点\n",
    "plt.plot([x - extent_x, x + extent_x, x + extent_x, x - extent_x, x - extent_x],\n",
    "         [y - extent_y, y - extent_y, y + extent_y, y + extent_y, y - extent_y], color='black')\n",
    "plt.axis('equal')\n",
    "    # data.append([traj, label])\n",
    "\n",
    "pickle_filename = \"data_and_label.pkl\"\n",
    "with open(pickle_filename, 'wb') as pickle_file:\n",
    "    pickle.dump(data_and_label, pickle_file)"
   ]
  },
  {
   "cell_type": "code",
   "execution_count": 12,
   "metadata": {},
   "outputs": [],
   "source": [
    "data_and_label = pickle.load(open('data_and_label.pkl', \"rb\"))"
   ]
  },
  {
   "cell_type": "code",
   "execution_count": 14,
   "metadata": {},
   "outputs": [
    {
     "data": {
      "text/plain": [
       "109"
      ]
     },
     "execution_count": 14,
     "metadata": {},
     "output_type": "execute_result"
    }
   ],
   "source": [
    "len(data_and_label)"
   ]
  },
  {
   "cell_type": "code",
   "execution_count": 19,
   "metadata": {},
   "outputs": [
    {
     "data": {
      "text/plain": [
       "[array([24.58595085, 64.99861908, 90.02336884]),\n",
       " array([24.58569717, 65.61715698, 90.02336884]),\n",
       " array([24.5854454 , 66.21613312, 90.02336884]),\n",
       " array([24.58523369, 66.73648071, 90.02327728]),\n",
       " array([24.58504868, 67.22264862, 90.02323151]),\n",
       " array([24.58485031, 67.70072174, 90.02324677]),\n",
       " array([24.5846386 , 68.22671509, 90.02328491]),\n",
       " array([24.58442879, 68.75537872, 90.02333069]),\n",
       " array([24.58418846, 69.32843781, 90.02334595]),\n",
       " array([24.58396912, 69.86558533, 90.02332306]),\n",
       " array([24.58325958, 70.38891602, 90.04512787]),\n",
       " array([24.57125664, 70.90894318, 90.56890869]),\n",
       " array([24.55410194, 71.42897034, 91.11502838]),\n",
       " array([24.5350647 , 71.93722534, 91.51768494]),\n",
       " array([24.51517296, 72.43206024, 91.80763245]),\n",
       " array([24.49503517, 72.91269684, 92.01880646]),\n",
       " array([24.4742775 , 73.3953476 , 92.17817688]),\n",
       " array([24.4532032 , 73.87600708, 92.29710388]),\n",
       " array([24.43222618, 74.34738922, 92.38507843]),\n",
       " array([24.41164589, 74.80473328, 92.45042419])]"
      ]
     },
     "execution_count": 19,
     "metadata": {},
     "output_type": "execute_result"
    }
   ],
   "source": [
    "data_and_label[0][0]"
   ]
  },
  {
   "cell_type": "code",
   "execution_count": 21,
   "metadata": {},
   "outputs": [
    {
     "data": {
      "text/plain": [
       "0"
      ]
     },
     "execution_count": 21,
     "metadata": {},
     "output_type": "execute_result"
    },
    {
     "ename": "",
     "evalue": "",
     "output_type": "error",
     "traceback": [
      "\u001b[1;31mThe Kernel crashed while executing code in the the current cell or a previous cell. Please review the code in the cell(s) to identify a possible cause of the failure. Click <a href='https://aka.ms/vscodeJupyterKernelCrash'>here</a> for more info. View Jupyter <a href='command:jupyter.viewOutput'>log</a> for further details."
     ]
    }
   ],
   "source": [
    "data_and_label[0][1]"
   ]
  }
 ],
 "metadata": {
  "kernelspec": {
   "display_name": "carla",
   "language": "python",
   "name": "python3"
  },
  "language_info": {
   "codemirror_mode": {
    "name": "ipython",
    "version": 3
   },
   "file_extension": ".py",
   "mimetype": "text/x-python",
   "name": "python",
   "nbconvert_exporter": "python",
   "pygments_lexer": "ipython3",
   "version": "3.7.1"
  }
 },
 "nbformat": 4,
 "nbformat_minor": 2
}
